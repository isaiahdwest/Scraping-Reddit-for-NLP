{
 "cells": [
  {
   "cell_type": "markdown",
   "id": "greek-subject",
   "metadata": {
    "id": "eligible-software"
   },
   "source": [
    "<img src=\"https://i.ytimg.com/vi/h5SNAluOj6U/maxresdefault.jpg\" width=\"500\" align = \"left\"\n",
    "/>\n",
    "\n",
    "\n"
   ]
  },
  {
   "cell_type": "markdown",
   "id": "lyric-little",
   "metadata": {
    "id": "BFaxyq_hfgHg"
   },
   "source": [
    "# Do or do not: This is a Binary Classification\n",
    "\n",
    "\n",
    "#### *Isaiah Westphalen*\n",
    "______"
   ]
  },
  {
   "cell_type": "markdown",
   "id": "outside-somerset",
   "metadata": {
    "id": "impossible-lewis",
    "tags": []
   },
   "source": [
    "Background: Reddit and Subbreddits\n",
    "================\n",
    "\n",
    "[Reddit](https://www.reddit.com/) is a social media site that collects forums dedicated to specific subjects where users can publish images, text, and videos. Each specific forum is referred to as a subreddit, and is dedicated to the discussion of one subject. For example, the [r/tea](https://www.reddit.com/r/tea/) subreddit is mostly made up of users' pictures of tea, and [r/WritingPrompts](https://www.reddit.com/r/WritingPrompts) is full of users' text submissions.  "
   ]
  },
  {
   "cell_type": "markdown",
   "id": "representative-concept",
   "metadata": {
    "id": "robust-interview"
   },
   "source": [
    "Problem Statement\n",
    "====================\n"
   ]
  },
  {
   "cell_type": "markdown",
   "id": "balanced-ghana",
   "metadata": {
    "id": "endangered-vancouver"
   },
   "source": [
    "Given two subreddits, what models can be used to determine if a body of text came from one or the other, and what specific characteristics of that text make it more likely to be from that subreddit.\n",
    "\n",
    "This could be used by websites such as Reddit for ad campaigning, or just generally trying to get an idea of what subject a person will be interested in based on a sample of their text. This model could tell websites who's viewing a specific page, what types of things they might like, or what other sites they might be going to.\n",
    "\n",
    "-------\n",
    "\n",
    "## The Subs in Question:\n",
    "In order to gather data, we'll be using posts and comments scraped from the subreddits:\n",
    "\n",
    "### r/prequelmemes\n",
    "\n",
    "<img src=\"https://drive.google.com/uc?export=view&id=1C0R4SUTTAALPFJPNj8yX6mKSfUhnqT3V\" style=\"width: 650px; max-width: 100%; height: auto\" title=\"Click to enlarge picture\" />\n",
    "\n",
    "A subreddit dedicated to sharing [memes](https://en.wikipedia.org/wiki/Meme) relating to the [prequel Star Wars movies](https://en.wikipedia.org/wiki/Star_Wars_prequel_trilogy). And:\n",
    "    \n",
    "\n",
    "### r/marvelmemes    \n",
    "    \n",
    "<img src=\"https://drive.google.com/uc?export=view&id=1NgSqdDXvI6ZFsGuYcvme2ob8UT56XNwC\" style=\"width: 650px; max-width: 100%; height: auto\" title=\"Click to enlarge picture\" />    \n",
    "\n",
    "A subreddit dedicated to sharing memes relating to [Marvel Entertainment](https://en.wikipedia.org/wiki/Marvel_Entertainment).\n",
    "    "
   ]
  },
  {
   "cell_type": "markdown",
   "id": "recovered-breast",
   "metadata": {
    "id": "intended-dominant"
   },
   "source": [
    "## Getting the Data\n",
    "________"
   ]
  },
  {
   "cell_type": "markdown",
   "id": "speaking-dakota",
   "metadata": {
    "id": "bronze-supply"
   },
   "source": [
    "####       Initial imports (other python modules will be added as needed):"
   ]
  },
  {
   "cell_type": "code",
   "execution_count": null,
   "id": "included-detective",
   "metadata": {
    "id": "heavy-michael"
   },
   "outputs": [],
   "source": [
    "import numpy as np\n",
    "import pandas as pd\n",
    "import requests\n",
    "from time import time"
   ]
  },
  {
   "cell_type": "markdown",
   "id": "saved-concentrate",
   "metadata": {
    "id": "extended-edmonton"
   },
   "source": [
    "#### First we'll start with getting information from reddit posts. Using Pushshift's API, we can get the data we need for our modeling:\n",
    "    \n",
    "Starting with the prequelmemes subreddit, we can request the post information, convert it to Json and store it to a csv. We'll also do this for the marvelmemes subreddit. In order to get the amount of data needed, we'll start by scraping the maximum number of posts [Pushshift](https://github.com/pushshift/api) allows us, before the time 1615867421 (Tuesday, March 16, 2021 4:03:41 AM), and then move to the previous 24 hour period and repeat the process."
   ]
  },
  {
   "cell_type": "code",
   "execution_count": null,
   "id": "analyzed-ghost",
   "metadata": {
    "id": "collaborative-wilson"
   },
   "outputs": [],
   "source": [
    "url = 'https://api.pushshift.io/reddit/search/submission'\n",
    "params = {'subreddit':'prequelmemes', 'size':499,'before':1615867421}\n",
    "fail = 0\n",
    "succ = 0\n",
    "for i in range(1,100000):\n",
    "    \n",
    "    try:\n",
    "        \n",
    "        res = requests.get(url,params)\n",
    "        data = res.json()\n",
    "        posts = data['data']\n",
    "        df = pd.DataFrame(posts)\n",
    "        df.to_csv(f'dfs/df{succ}.csv', index=False)\n",
    "        params['before']=params['before']-86400\n",
    "        succ+=1\n",
    "        if succ%100==0:\n",
    "            print(f'starting successful csv # {succ}')\n",
    "        if succ == 2000 or succ>2000:\n",
    "            break\n",
    "    except:\n",
    "        fail+=1\n",
    "        if fail%100==0:\n",
    "            print(f'failure # {fail}')\n",
    "        "
   ]
  },
  {
   "cell_type": "markdown",
   "id": "stunning-challenge",
   "metadata": {
    "id": "advanced-anthony"
   },
   "source": [
    "Now we can make a dataframe using pandas and our csv files. First, we'll import os inorder to generate a list of the files in our posts folder:"
   ]
  },
  {
   "cell_type": "code",
   "execution_count": null,
   "id": "bearing-corruption",
   "metadata": {
    "id": "light-uganda"
   },
   "outputs": [],
   "source": [
    "import os\n",
    "\n",
    "files = [i for i in os.listdir('dfs') if 'df' in i]\n"
   ]
  },
  {
   "cell_type": "markdown",
   "id": "international-brazil",
   "metadata": {
    "id": "invalid-cameroon"
   },
   "source": [
    "Now we can make the first dataframe we'll be using: "
   ]
  },
  {
   "cell_type": "code",
   "execution_count": null,
   "id": "chief-vietnamese",
   "metadata": {
    "id": "under-gender"
   },
   "outputs": [],
   "source": [
    "all_data = pd.read_csv('dfs/df1.csv')\n",
    "succ = 0\n",
    "for i in files:\n",
    "    try:\n",
    "        if i !='df1.csv':\n",
    "            df = pd.read_csv('dfs/'+i)\n",
    "            all_data=pd.concat([all_data,df])\n",
    "            succ+=1\n",
    "        if succ%100==0:\n",
    "            print(f'finished concat # {succ}')\n",
    "        \n",
    "    except:\n",
    "        pass"
   ]
  },
  {
   "cell_type": "markdown",
   "id": "muslim-michael",
   "metadata": {
    "id": "neural-chapter"
   },
   "source": [
    "Repeating the Process for the marvelmemes subreddit:"
   ]
  },
  {
   "cell_type": "code",
   "execution_count": null,
   "id": "impressed-boulder",
   "metadata": {
    "id": "continent-bahamas"
   },
   "outputs": [],
   "source": [
    "url1 = 'https://api.pushshift.io/reddit/search/submission'\n",
    "param1s = {'subreddit':'marvelmemes', 'size':499,'before':1615867421}\n",
    "succ_count = 0\n",
    "fail = 0\n",
    "for j in range(1,1000000):\n",
    "    try:\n",
    "    \n",
    "        res1 = requests.get(url1,param1s)\n",
    "        data1 = res1.json()\n",
    "        posts1 = data1['data']\n",
    "        df1 = pd.DataFrame(posts1)\n",
    "        df1.to_csv(f'dfs/dd{j}.csv', index=False)\n",
    "        param1s['before']=param1s['before']-86400\n",
    "        succ_count+=1\n",
    "        if succ_count%100==0:\n",
    "            print(f'starting successful csv # {succ_count}')\n",
    "        if succ_count == 2000 or succ_count>2000:\n",
    "            break\n",
    "        \n",
    "    except:\n",
    "        fail+=1\n",
    "        if fail%100==0:\n",
    "            print(f'failure # {fail}')\n",
    "        "
   ]
  },
  {
   "cell_type": "code",
   "execution_count": null,
   "id": "southwest-dietary",
   "metadata": {
    "id": "designed-treat"
   },
   "outputs": [],
   "source": [
    "files1 = [j for j in os.listdir('dfs') if 'dd' in j]\n",
    "all_data1 = pd.read_csv('dfs/dd1.csv')\n",
    "succ = 0\n",
    "for j in files1:\n",
    "    try:\n",
    "        if j !='dd1.csv':\n",
    "            df1 = pd.read_csv('dfs/'+j)\n",
    "            all_data1=pd.concat([all_data1,df1])\n",
    "        succ+=1\n",
    "        if succ%100==0:\n",
    "            print(f'finished concat # {succ}')\n",
    "    except:\n",
    "        pass"
   ]
  },
  {
   "cell_type": "markdown",
   "id": "ongoing-array",
   "metadata": {
    "id": "rental-plaza"
   },
   "source": [
    "#### Now the comments! In order to get more data we'll also be looking at the comments for posts in both subreddits:\n",
    "Pushshift's API also lets us scrape the comments on posts so we'll follow the same process as above to get the text data needed:\n"
   ]
  },
  {
   "cell_type": "code",
   "execution_count": null,
   "id": "offensive-occupation",
   "metadata": {
    "id": "thirty-seven"
   },
   "outputs": [],
   "source": [
    "url2 = 'https://api.pushshift.io/reddit/search/comment'\n",
    "params2 = {'subreddit':'prequelmemes', 'size':499,'before':1615867421}\n",
    "succ = 0\n",
    "fail = 0\n",
    "t = time()\n",
    "for j in range(1,1000000):\n",
    "    \n",
    "    try:\n",
    "    \n",
    "        res2 = requests.get(url2,params2)\n",
    "        data2 = res2.json()\n",
    "        posts2 = data2['data']\n",
    "        df2 = pd.DataFrame(posts2)\n",
    "        df2.to_csv(f'comments/df_comm{j}.csv', index=False)\n",
    "        params2['before']=params2['before']-86400\n",
    "        succ+=1\n",
    "        if succ%100==0:\n",
    "            s = time()\n",
    "            print(f'starting successful csv # {succ}')\n",
    "            print(f'It has been {time()-t} since the last 100 successes')\n",
    "        if succ == 2000 or succ>2000:\n",
    "            break\n",
    "        \n",
    "    except:\n",
    "        fail+=1\n",
    "        if fail%100==0:\n",
    "            print(f'It has been {time()-t} since the last 100 fails')\n",
    "            print(f'failure # {fail}')\n",
    "        "
   ]
  },
  {
   "cell_type": "code",
   "execution_count": null,
   "id": "foreign-drove",
   "metadata": {
    "id": "consolidated-elephant"
   },
   "outputs": [],
   "source": [
    "files2 = [j for j in os.listdir('comments') if 'df_comm' in j]\n",
    "all_data2 = pd.read_csv('comments/df_comm1.csv')\n",
    "succ = 0\n",
    "t = time()\n",
    "s = 0\n",
    "for j in files2:\n",
    "    try:\n",
    "        if j !='df_comm1.csv':\n",
    "            df2 = pd.read_csv('comments/'+j)\n",
    "            all_data2=pd.concat([all_data2,df2])\n",
    "        succ+=1\n",
    "        if succ%100==0:\n",
    "            s = time()\n",
    "            print(f'finished concat # {succ}')\n",
    "            print(f'it has been {s - t} since the last 100 successes')\n",
    "            t = time()\n",
    "    except:\n",
    "        pass"
   ]
  },
  {
   "cell_type": "code",
   "execution_count": null,
   "id": "funky-technique",
   "metadata": {
    "id": "arctic-affiliation"
   },
   "outputs": [],
   "source": [
    "url3 = 'https://api.pushshift.io/reddit/search/comment'\n",
    "params3 = {'subreddit':'marvelmemes', 'size':499,'before':1615867421}\n",
    "succ = 0\n",
    "fail = 0\n",
    "t = time()\n",
    "s = 0\n",
    "for j in range(1,1000000):\n",
    "    try:\n",
    "    \n",
    "        res3 = requests.get(url3,params3)\n",
    "        data3 = res3.json()\n",
    "        posts3 = data3['data']\n",
    "        df3 = pd.DataFrame(posts3)\n",
    "        df3.to_csv(f'comments/dd_comm{j}.csv', index=False)\n",
    "        params3['before']=params3['before']-86400\n",
    "        succ+=1\n",
    "        if succ%100==0:\n",
    "            s = time()\n",
    "            print(f'starting successful csv # {succ}')\n",
    "            print(f'it has been {s - t} since the last 100 successes')\n",
    "            t = time()\n",
    "        if succ == 2000 or succ>2000:\n",
    "            break\n",
    "        \n",
    "    except:\n",
    "        fail+=1\n",
    "        if fail%100==0:\n",
    "            print(f'failure # {fail}')\n",
    "            \n",
    "        "
   ]
  },
  {
   "cell_type": "code",
   "execution_count": null,
   "id": "likely-treaty",
   "metadata": {
    "id": "younger-nightlife"
   },
   "outputs": [],
   "source": [
    "files3 = [j for j in os.listdir('comments') if 'dd_comm' in j]\n",
    "all_data3 = pd.read_csv('comments/dd_comm1.csv')\n",
    "succ = 0\n",
    "for j in files3:\n",
    "    try:\n",
    "        if j !='dd_comm1.csv':\n",
    "            df3 = pd.read_csv('comments/'+j)\n",
    "            all_data3=pd.concat([all_data3,df3])\n",
    "        succ+=1\n",
    "        if succ%100==0:\n",
    "            print(f'finished concat # {succ}')\n",
    "    except:\n",
    "        pass"
   ]
  },
  {
   "cell_type": "markdown",
   "id": "extended-matthew",
   "metadata": {
    "id": "mysterious-length"
   },
   "source": [
    "### Data Cleaning\n",
    "______"
   ]
  },
  {
   "cell_type": "markdown",
   "id": "accurate-alert",
   "metadata": {
    "id": "expanded-socket"
   },
   "source": [
    "Now that we have dataframes for all our post and comment data, we can start cleaning it. Here we'll just drop any entry in a dataframe that has null  or [deleted] for its text value. We will also save the resulting dataframe as a csv so once we have gathered all the text data from reddit we won't have to run the previous steps agan:"
   ]
  },
  {
   "cell_type": "code",
   "execution_count": null,
   "id": "found-miami",
   "metadata": {
    "id": "minute-frank"
   },
   "outputs": [],
   "source": [
    "all_data['selftext'] = all_data['selftext'].fillna('hello obiwan, my twins have been birthed at last and i am separating them as my final wish')\n",
    "all_data['selftext'] = all_data['selftext'].replace({'[deleted]':'hello obiwan, my twins have been birthed at last and i am separating them as my final wish'})\n",
    "all_data = all_data[all_data['selftext']!='hello obiwan, my twins have been birthed at last and i am separating them as my final wish']\n",
    "all_data.to_csv('prequelmeme_data.csv', index=False)"
   ]
  },
  {
   "cell_type": "code",
   "execution_count": null,
   "id": "anonymous-socket",
   "metadata": {
    "id": "dependent-small"
   },
   "outputs": [],
   "source": [
    "all_data1['selftext'] = all_data1['selftext'].fillna('hello obiwan, my twins have been birthed at last and i am separating them as my final wish')\n",
    "all_data1['selftext'] = all_data1['selftext'].replace({'[deleted]':'hello obiwan, my twins have been birthed at last and i am separating them as my final wish'})\n",
    "all_data1 = all_data1[all_data1['selftext']!='hello obiwan, my twins have been birthed at last and i am separating them as my final wish']\n",
    "all_data1.to_csv('marvelmeme_data.csv', index=False)"
   ]
  },
  {
   "cell_type": "code",
   "execution_count": null,
   "id": "american-missile",
   "metadata": {
    "id": "announced-rings"
   },
   "outputs": [],
   "source": [
    "all_data2['body'] = all_data2['body'].fillna('hello obiwan, my twins have been birthed at last and i am separating them as my final wish')\n",
    "all_data2['body'] = all_data2['body'].replace({'[deleted]':'hello obiwan, my twins have been birthed at last and i am separating them as my final wish'})\n",
    "all_data2 = all_data2[all_data2['body']!='hello obiwan, my twins have been birthed at last and i am separating them as my final wish']\n",
    "all_data2.to_csv('prequelmemecomms_data.csv', index=False)"
   ]
  },
  {
   "cell_type": "code",
   "execution_count": null,
   "id": "tropical-norman",
   "metadata": {
    "id": "faced-philosophy"
   },
   "outputs": [],
   "source": [
    "all_data3['body'] = all_data3['body'].fillna('hello obiwan, my twins have been birthed at last and i am separating them as my final wish')\n",
    "all_data3['body'] = all_data3['body'].replace({'[deleted]':'hello obiwan, my twins have been birthed at last and i am separating them as my final wish'})\n",
    "all_data3 = all_data3[all_data3['body']!='hello obiwan, my twins have been birthed at last and i am separating them as my final wish']\n",
    "all_data3.to_csv('marvelmemecomms_data.csv', index=False)"
   ]
  },
  {
   "cell_type": "markdown",
   "id": "instructional-underground",
   "metadata": {
    "id": "formal-wrist"
   },
   "source": [
    "### Natural Language Processing and Modeling\n",
    "______"
   ]
  },
  {
   "cell_type": "markdown",
   "id": "tracked-policy",
   "metadata": {
    "id": "square-capture"
   },
   "source": [
    "Now that we've collected and cleaned our data we need to get it into a format that our classifier models can understand. First we'll make additional imports:"
   ]
  },
  {
   "cell_type": "code",
   "execution_count": null,
   "id": "nominated-strike",
   "metadata": {
    "id": "palestinian-drama"
   },
   "outputs": [],
   "source": [
    "import matplotlib.pyplot as plt\n",
    "import seaborn as sns\n",
    "from nltk.stem import WordNetLemmatizer\n",
    "from nltk.tokenize import sent_tokenize, word_tokenize, RegexpTokenizer\n",
    "from nltk.stem.porter import PorterStemmer\n",
    "from nltk.corpus import stopwords\n",
    "from nltk.sentiment.vader import SentimentIntensityAnalyzer\n",
    "import re"
   ]
  },
  {
   "cell_type": "markdown",
   "id": "czech-assist",
   "metadata": {
    "id": "backed-vitamin"
   },
   "source": [
    "Now we can read in our data from our saved csv's:"
   ]
  },
  {
   "cell_type": "code",
   "execution_count": null,
   "id": "technological-giant",
   "metadata": {
    "id": "executed-orchestra"
   },
   "outputs": [],
   "source": [
    "# in order to reduce computation time later we'll reduce the number of entries we'll take in here\n",
    "sw_posts = pd.read_csv('prequelmeme_data.csv')\n",
    "sw_comments = pd.read_csv('prequelmemecomms_data.csv')\n",
    "sw_comments_2000 = sw_comments[:2000] \n",
    "mar_posts = pd.read_csv('marvelmeme_data.csv')\n",
    "mar_posts=mar_posts[:2000]\n",
    "mar_comments = pd.read_csv('marvelmemecomms_data.csv')\n",
    "mar_comments_2000 = mar_comments[:2000]"
   ]
  },
  {
   "cell_type": "markdown",
   "id": "abandoned-seven",
   "metadata": {
    "id": "liquid-surname"
   },
   "source": [
    "We have the data, but in order for the modeling to work we need an idea of which subreddit the text is from. Here we'll assign 1 to mean the text was from the marvelmemes subreddit and 0 to mean it was from prequelmemes subreddit (this will be our target column):"
   ]
  },
  {
   "cell_type": "code",
   "execution_count": null,
   "id": "certain-alias",
   "metadata": {
    "id": "delayed-disclaimer"
   },
   "outputs": [],
   "source": [
    "swp_df = sw_posts[['selftext']]\n",
    "swp_df['is_marvel'] = swp_df['selftext'].map(lambda x:0)\n",
    "\n",
    "sw_comments_2000['selftext']=sw_comments_2000['body']\n",
    "swc_df = sw_comments_2000[['selftext']]\n",
    "swc_df['is_marvel'] = swc_df['selftext'].map(lambda x:0)\n",
    "\n",
    "marp_df = mar_posts[['selftext']]\n",
    "marp_df['is_marvel'] = marp_df['selftext'].map(lambda x:1)\n",
    "\n",
    "mar_comments_2000['selftext'] = mar_comments_2000['body']\n",
    "marc_df = mar_comments_2000[['selftext']]\n",
    "marc_df['is_marvel'] = marc_df['selftext'].map(lambda x:1)\n",
    "\n",
    "all_text = pd.concat([swp_df,swc_df,marp_df,marc_df])"
   ]
  },
  {
   "cell_type": "markdown",
   "id": "understanding-campbell",
   "metadata": {
    "id": "legitimate-exhibition"
   },
   "source": [
    "#### Vectorizing:"
   ]
  },
  {
   "cell_type": "markdown",
   "id": "connected-cleveland",
   "metadata": {
    "id": "critical-configuration"
   },
   "source": [
    "Here we'll use the built in vectorizer from sklearn, Countvectorizer. This is a bag of words method, which will turn the data into a dataframe where each row represents a text block and each column a word. The values of the dataframe will indicate if a word is in the text block and just how frequently. "
   ]
  },
  {
   "cell_type": "code",
   "execution_count": null,
   "id": "naval-talent",
   "metadata": {
    "id": "artistic-blowing"
   },
   "outputs": [],
   "source": [
    "#Import\n",
    "from sklearn.feature_extraction.text import CountVectorizer"
   ]
  },
  {
   "cell_type": "code",
   "execution_count": null,
   "id": "union-cradle",
   "metadata": {
    "id": "minimal-wings"
   },
   "outputs": [],
   "source": [
    "cv1 = CountVectorizer(stop_words=stopwords.words('english'),strip_accents='unicode')\n",
    "all_above = cv1.fit_transform(all_text['selftext'])\n"
   ]
  },
  {
   "cell_type": "code",
   "execution_count": null,
   "id": "intensive-facility",
   "metadata": {
    "id": "african-budapest"
   },
   "outputs": [],
   "source": [
    "all_above_vec = all_above.toarray()\n",
    "all_above_df = pd.DataFrame(all_above_vec, columns = cv1.get_feature_names())\n",
    "all_above_df = all_above_df.reset_index(drop=True)\n",
    "all_text = all_text.reset_index(drop=True)\n",
    "all_above_df['is_marvel']=all_text['is_marvel']"
   ]
  },
  {
   "cell_type": "markdown",
   "id": "located-affair",
   "metadata": {
    "id": "amateur-saint"
   },
   "source": [
    "Now we have our vectorized dataframe with our our target column!"
   ]
  },
  {
   "cell_type": "markdown",
   "id": "bacterial-northern",
   "metadata": {
    "id": "cosmetic-barrier"
   },
   "source": [
    "#### Modeling:\n",
    "\n",
    "Now that we have everything finished in terms of getting the data into a usable format we'll start modeling. Here we'll use a Random Tree Classifier and \n",
    "Logistic Regression to predict whether a body of text is from one subreddit or the other."
   ]
  },
  {
   "cell_type": "code",
   "execution_count": null,
   "id": "empty-archive",
   "metadata": {
    "id": "excessive-investigation"
   },
   "outputs": [],
   "source": [
    "from sklearn.ensemble import RandomForestClassifier\n",
    "from sklearn.model_selection import cross_val_score, train_test_split, GridSearchCV\n",
    "from sklearn.linear_model import LogisticRegression"
   ]
  },
  {
   "cell_type": "markdown",
   "id": "fabulous-habitat",
   "metadata": {
    "id": "figured-arrow"
   },
   "source": [
    "Making our X and y variables and making our training and testing datasets:"
   ]
  },
  {
   "cell_type": "code",
   "execution_count": null,
   "id": "atmospheric-movie",
   "metadata": {
    "id": "difficult-lunch"
   },
   "outputs": [],
   "source": [
    "X = all_above_df.drop(columns = 'is_marvel')\n",
    "y = all_above_df['is_marvel']\n",
    "X_train, X_val, y_train, y_val = train_test_split(X, y, random_state=42, stratify=y)"
   ]
  },
  {
   "cell_type": "markdown",
   "id": "provincial-abortion",
   "metadata": {
    "id": "experienced-swaziland"
   },
   "source": [
    "Instantiating our initial models:"
   ]
  },
  {
   "cell_type": "code",
   "execution_count": null,
   "id": "common-smart",
   "metadata": {
    "id": "promotional-housing"
   },
   "outputs": [],
   "source": [
    "rf = RandomForestClassifier(n_estimators=100)\n",
    "logreg = LogisticRegression(penalty = 'none',max_iter=1000)"
   ]
  },
  {
   "cell_type": "markdown",
   "id": "brave-hartford",
   "metadata": {
    "id": "exposed-overall"
   },
   "source": [
    "Calculating our Baseline model:"
   ]
  },
  {
   "cell_type": "code",
   "execution_count": null,
   "id": "premier-hydrogen",
   "metadata": {
    "id": "enabling-feature",
    "outputId": "a89d8ef5-3ff7-4baa-819e-93fce958599e"
   },
   "outputs": [
    {
     "data": {
      "text/plain": [
       "1    0.543848\n",
       "0    0.456152\n",
       "Name: is_marvel, dtype: float64"
      ]
     },
     "execution_count": 19,
     "metadata": {
      "tags": []
     },
     "output_type": "execute_result"
    }
   ],
   "source": [
    "y.value_counts(normalize = True)"
   ]
  },
  {
   "cell_type": "markdown",
   "id": "exposed-campbell",
   "metadata": {
    "id": "meaning-assets"
   },
   "source": [
    "Now we can make an initial comparison between the two models:"
   ]
  },
  {
   "cell_type": "code",
   "execution_count": null,
   "id": "documentary-carrier",
   "metadata": {
    "id": "respiratory-translator",
    "outputId": "1a31e2b7-c014-4d7b-ef93-6b8195c8746b"
   },
   "outputs": [
    {
     "name": "stdout",
     "output_type": "stream",
     "text": [
      "The Random Forest Classifier CV score for the training set: 0.7955061623766538\n",
      "The Random Forest Classifier CV score for the testing set: 0.7487812462978319\n",
      "The Logistic Regression CV score for the training set: 0.7773777379216102\n",
      "The Logistic Regression CV score for the testing set: 0.7591088141215497\n"
     ]
    }
   ],
   "source": [
    "print(f'The Random Forest Classifier CV score for the training set: {cross_val_score(rf, X_train, y_train, cv=5).mean()}')\n",
    "print(f'The Random Forest Classifier CV score for the testing set: {cross_val_score(rf, X_val, y_val, cv=5).mean()}')\n",
    "\n",
    "print(f'The Logistic Regression CV score for the training set: {cross_val_score(logreg, X_train, y_train, cv=5).mean()}')\n",
    "print(f'The Logistic Regression CV score for the testing set: {cross_val_score(logreg, X_val, y_val, cv=5).mean()}')\n"
   ]
  },
  {
   "cell_type": "markdown",
   "id": "valuable-decimal",
   "metadata": {
    "id": "strategic-baptist"
   },
   "source": [
    "From a first look it seems like our Random Forest model might be working better than the Logistic regression, however both models are out performing the baseline and scored similarly."
   ]
  },
  {
   "cell_type": "markdown",
   "id": "ignored-warrant",
   "metadata": {
    "id": "polar-hunger"
   },
   "source": [
    "#### Fine Tuning:\n",
    "___"
   ]
  },
  {
   "cell_type": "markdown",
   "id": "greater-bridge",
   "metadata": {
    "id": "integrated-african"
   },
   "source": [
    "Now that we have our initial models we can do a gridsearch in order to determine what the best parameters are:"
   ]
  },
  {
   "cell_type": "code",
   "execution_count": null,
   "id": "normal-innocent",
   "metadata": {
    "id": "anonymous-plain",
    "outputId": "2e245ba0-5110-40c9-dc5e-ccf6174324f9"
   },
   "outputs": [
    {
     "name": "stdout",
     "output_type": "stream",
     "text": [
      "0.8000381042479667\n"
     ]
    },
    {
     "data": {
      "text/plain": [
       "{'max_depth': None, 'n_estimators': 200}"
      ]
     },
     "execution_count": 21,
     "metadata": {
      "tags": []
     },
     "output_type": "execute_result"
    }
   ],
   "source": [
    "rf_params = {\n",
    "    'n_estimators': [100, 150, 200],\n",
    "    'max_depth': [None, 1, 2, 3, 4, 5],\n",
    "}\n",
    "gs = GridSearchCV(rf, param_grid=rf_params, cv=5)\n",
    "gs.fit(X_train, y_train)\n",
    "print(gs.best_score_)\n",
    "gs.best_params_"
   ]
  },
  {
   "cell_type": "code",
   "execution_count": null,
   "id": "caring-willow",
   "metadata": {
    "id": "heated-poison",
    "outputId": "35f0404f-5f7b-4f3e-90bf-15da35714f74"
   },
   "outputs": [
    {
     "data": {
      "text/plain": [
       "RandomForestClassifier(n_estimators=200)"
      ]
     },
     "execution_count": 19,
     "metadata": {
      "tags": []
     },
     "output_type": "execute_result"
    }
   ],
   "source": [
    "rf1 = RandomForestClassifier(max_depth=None, n_estimators=200)\n",
    "rf1.fit(X_train, y_train)"
   ]
  },
  {
   "cell_type": "code",
   "execution_count": null,
   "id": "olive-fitting",
   "metadata": {
    "id": "statistical-window"
   },
   "outputs": [],
   "source": [
    "log_params = {\n",
    "    'C':[0.01,0.1,1,10],\n",
    "    'solver':['lbfgs', 'liblinear'],\n",
    "    'penalty' : ['l2', 'none']\n",
    "\n",
    "}\n",
    "gc = GridSearchCV(LogisticRegression(max_iter=1000),\n",
    "                 param_grid=log_params,\n",
    "                 cv =5)\n",
    "\n",
    "gc.fit(X_train, y_train)\n",
    "print(gs.best_score_)\n",
    "gc.best_params_"
   ]
  },
  {
   "cell_type": "code",
   "execution_count": null,
   "id": "improved-breed",
   "metadata": {
    "id": "strategic-layout",
    "outputId": "eb084523-4e11-41a4-d59b-d7e5f4bb5922"
   },
   "outputs": [
    {
     "data": {
      "text/plain": [
       "LogisticRegression(C=1)"
      ]
     },
     "execution_count": 20,
     "metadata": {
      "tags": []
     },
     "output_type": "execute_result"
    }
   ],
   "source": [
    "lr = LogisticRegression(C=1, penalty = 'l2', solver='lbfgs')\n",
    "lr.fit(X_train, y_train)"
   ]
  },
  {
   "cell_type": "markdown",
   "id": "corresponding-senator",
   "metadata": {
    "id": "appropriate-possibility"
   },
   "source": [
    "### Comparison:\n",
    "_____"
   ]
  },
  {
   "cell_type": "markdown",
   "id": "specified-sperm",
   "metadata": {
    "id": "brilliant-addition"
   },
   "source": [
    "First we'll look at the confusion matrices for both models in order to get a better idea of how they are performing:"
   ]
  },
  {
   "cell_type": "code",
   "execution_count": null,
   "id": "homeless-crisis",
   "metadata": {
    "id": "breathing-porcelain"
   },
   "outputs": [],
   "source": [
    "from sklearn.metrics import plot_confusion_matrix, confusion_matrix"
   ]
  },
  {
   "cell_type": "code",
   "execution_count": null,
   "id": "registered-hebrew",
   "metadata": {
    "id": "prime-ensemble",
    "outputId": "0fdad1d9-cfc4-4b49-8cfa-a6e40e99f773"
   },
   "outputs": [
    {
     "data": {
      "image/png": "[encoded data removed]",
      "text/plain": [
       "<Figure size 720x720 with 2 Axes>"
      ]
     },
     "metadata": {
      "needs_background": "light",
      "tags": []
     },
     "output_type": "display_data"
    }
   ],
   "source": [
    "fig, ax = plt.subplots(figsize=(10, 10))\n",
    "plt.title('Logistic Regression Confusion Matrix')\n",
    "plot_confusion_matrix(lr,X_val, y_val,display_labels=['prequelmemes','marvelmemes'], ax =ax, cmap='Blues');"
   ]
  },
  {
   "cell_type": "code",
   "execution_count": null,
   "id": "moved-pleasure",
   "metadata": {
    "id": "sweet-physics",
    "outputId": "e62722d2-4f72-4076-8500-31379c6e80c2"
   },
   "outputs": [
    {
     "data": {
      "image/png": "[encoded data removed]",
      "text/plain": [
       "<Figure size 720x720 with 2 Axes>"
      ]
     },
     "metadata": {
      "needs_background": "light",
      "tags": []
     },
     "output_type": "display_data"
    }
   ],
   "source": [
    "fig, ax = plt.subplots(figsize=(10, 10))\n",
    "plt.title('Random Forest Classifier Confusion Matrix')\n",
    "plot_confusion_matrix(rf1,X_val, y_val,display_labels=['prequelmemes','marvelmemes'], ax =ax, cmap='Blues');"
   ]
  },
  {
   "cell_type": "markdown",
   "id": "advanced-agriculture",
   "metadata": {
    "id": "european-edinburgh"
   },
   "source": [
    "And now comparing the classification metrics directly:"
   ]
  },
  {
   "cell_type": "code",
   "execution_count": null,
   "id": "abandoned-fashion",
   "metadata": {
    "id": "agreed-lyric",
    "outputId": "7dac67ce-a631-4586-b77d-f35595984176"
   },
   "outputs": [
    {
     "name": "stdout",
     "output_type": "stream",
     "text": [
      "The Accuracy for Logistic Regression is: 0.7846655791190864\n",
      "The Sensitivity for Logistic Regression is: 0.774\n",
      "The Specificity for Logistic Regression is: 0.797377830750894\n"
     ]
    }
   ],
   "source": [
    "lr_preds = lr.predict(X_val)\n",
    "lr_tn, lr_fp, lr_fn, lr_tp = confusion_matrix(y_val,lr_preds ).ravel()\n",
    "#ACCURACY\n",
    "acc_lr = (lr_tp+lr_tn)/(lr_tp+lr_fp+lr_tn+lr_fn)\n",
    "print(f\"The Accuracy for Logistic Regression is: {acc_lr}\")\n",
    "#MISCALSSIFICATION RATE\n",
    "miss_lr = 1-acc_lr\n",
    "#SENSITIVITY\n",
    "sens_lr = lr_tp/(lr_tp+lr_fn)\n",
    "print(f'The Sensitivity for Logistic Regression is: {sens_lr}')\n",
    "#SPECIFICITY\n",
    "spec_lr=lr_tn/(lr_tn+lr_fp)\n",
    "print(f'The Specificity for Logistic Regression is: {spec_lr}')\n",
    "#PRECISION\n",
    "prec_lr = lr_tp/(lr_tp+lr_fp)"
   ]
  },
  {
   "cell_type": "code",
   "execution_count": null,
   "id": "perfect-marathon",
   "metadata": {
    "id": "marine-cholesterol",
    "outputId": "7258567a-be43-4f40-db4f-1853a8d4e71b"
   },
   "outputs": [
    {
     "name": "stdout",
     "output_type": "stream",
     "text": [
      "The Accuracy for Random Forest Classifier is: 0.8015225666122893\n",
      "The Sensitivity for Random Forest Classifier is: 0.777\n",
      "The Specificity for Random Forest Classifier is: 0.8307508939213349\n"
     ]
    }
   ],
   "source": [
    "rf1_preds = rf1.predict(X_val)\n",
    "rf1_tn, rf1_fp, rf1_fn, rf1_tp = confusion_matrix(y_val,rf1_preds ).ravel()\n",
    "#ACCURACY\n",
    "acc_rf1 = (rf1_tp+rf1_tn)/(rf1_tp+rf1_fp+rf1_tn+rf1_fn)\n",
    "print(f'The Accuracy for Random Forest Classifier is: {acc_rf1}')\n",
    "#MISCALSSIFICATION RATE\n",
    "miss_rf1 = 1-acc_rf1\n",
    "#SENSITIVITY\n",
    "sens_rf1 = rf1_tp/(rf1_tp+rf1_fn)\n",
    "print(f'The Sensitivity for Random Forest Classifier is: {sens_rf1}')\n",
    "#SPECIFICITY\n",
    "spec_rf1=rf1_tn/(rf1_tn+rf1_fp)\n",
    "print(f'The Specificity for Random Forest Classifier is: {spec_rf1}')\n",
    "#PRECISION\n",
    "prec_rf1 = rf1_tp/(rf1_tp+rf1_fp)"
   ]
  },
  {
   "cell_type": "code",
   "execution_count": null,
   "id": "dutch-thesaurus",
   "metadata": {
    "id": "legitimate-poultry",
    "outputId": "95243959-9a5c-483c-9b97-a949f236c678"
   },
   "outputs": [
    {
     "name": "stdout",
     "output_type": "stream",
     "text": [
      "Random Forest Classifier is better for accuracy\n",
      "\n",
      "Random Forest Classifier is better for missclassification\n",
      "\n",
      "Random Forest Classifier is better for sensitivity\n",
      "\n",
      "Random Forest Classifier is better for specificity\n",
      "\n",
      "Random Forest Classifier is better for precision\n",
      "\n"
     ]
    }
   ],
   "source": [
    "if acc_lr>acc_rf1:\n",
    "    print('Logistic Regression is better for accuracy')\n",
    "    print()\n",
    "else:\n",
    "    print('Random Forest Classifier is better for accuracy')\n",
    "    print()\n",
    "\n",
    "if miss_lr<miss_rf1:\n",
    "    print('Logistic Regression is better for missclassification')\n",
    "    print()\n",
    "else:\n",
    "    print('Random Forest Classifier is better for missclassification')\n",
    "    print()\n",
    "    \n",
    "if sens_lr>sens_rf1:\n",
    "    print('Logistic Regression is better for sensitivity')\n",
    "    print()\n",
    "else:\n",
    "    print('Random Forest Classifier is better for sensitivity')\n",
    "    print()\n",
    "\n",
    "if spec_lr>spec_rf1:\n",
    "    print('Logistic Regression is better for specificity')\n",
    "    print()\n",
    "else:\n",
    "    print('Random Forest Classifier is better for specificity')\n",
    "    print()\n",
    "\n",
    "if spec_lr>spec_rf1:\n",
    "    print('Logistic Regression is better for precision')\n",
    "    print()\n",
    "else:\n",
    "    print('Random Forest Classifier is better for precision')\n",
    "    print()"
   ]
  },
  {
   "cell_type": "markdown",
   "id": "indirect-badge",
   "metadata": {
    "id": "independent-booking"
   },
   "source": [
    "Now we can compare how many predictions each model got wrong or right:"
   ]
  },
  {
   "cell_type": "code",
   "execution_count": null,
   "id": "heavy-stability",
   "metadata": {
    "id": "biblical-marshall"
   },
   "outputs": [],
   "source": [
    "right_lr=0\n",
    "wrong_lr =0\n",
    "wrong_rf1=0\n",
    "right_rf1=0\n",
    "target = [i for i in y_val]\n",
    "lst_lr = [j for j in lr_preds]\n",
    "lst_rf1 = [k for k in rf1_preds]\n",
    "for i in range(len(target)):\n",
    "    if target[i]!=lst_lr[i]:\n",
    "        wrong_lr +=1\n",
    "        \n",
    "    else:\n",
    "        right_lr+=1\n",
    "for i in range(len(target)):\n",
    "    if target[i]!=lst_rf1[i]:\n",
    "        wrong_rf1 +=1\n",
    "        \n",
    "    else:\n",
    "        right_rf1+=1\n",
    "right = [right_lr,right_rf1]\n",
    "wrong = [wrong_lr,wrong_rf1]"
   ]
  },
  {
   "cell_type": "code",
   "execution_count": null,
   "id": "cross-chester",
   "metadata": {
    "id": "social-landscape",
    "outputId": "7482ddd9-b9f5-453b-a785-736f1273e2f9"
   },
   "outputs": [
    {
     "data": {
      "image/png": "[encoded data removed]",
      "text/plain": [
       "<Figure size 864x648 with 1 Axes>"
      ]
     },
     "metadata": {
      "needs_background": "light",
      "tags": []
     },
     "output_type": "display_data"
    }
   ],
   "source": [
    "labels = ['Logistic Regression', 'RandomForestClassifier']\n",
    "\n",
    "fig, ax = plt.subplots()\n",
    "fig.set_figheight(9)\n",
    "fig.set_figwidth(12)\n",
    "ax.bar(labels,right, width = 0.35,label= 'Right')\n",
    "ax.bar(labels,wrong, width=0.35, label='Wrong', bottom = right)\n",
    "ax.legend()\n",
    "ax.set_title('Wrong vs Right Predictions', fontsize=20);"
   ]
  },
  {
   "cell_type": "markdown",
   "id": "contrary-hungary",
   "metadata": {
    "id": "eligible-grade"
   },
   "source": [
    "As indicated from our scores, the models seem to be performing similarly, with the Random Forest Classifier doing just slightly better."
   ]
  },
  {
   "cell_type": "markdown",
   "id": "functioning-biology",
   "metadata": {
    "id": "fewer-banana"
   },
   "source": [
    "### What Words were the most important? \n",
    "_____"
   ]
  },
  {
   "cell_type": "markdown",
   "id": "secondary-alfred",
   "metadata": {
    "id": "honest-idaho"
   },
   "source": [
    "We can also determine what words had the greatest impact on our models in determining which subreddit a body of text is from:"
   ]
  },
  {
   "cell_type": "code",
   "execution_count": null,
   "id": "preceding-truth",
   "metadata": {
    "id": "enhanced-apparel"
   },
   "outputs": [],
   "source": [
    "list_coef = list(lr.coef_.ravel())\n",
    "dict_coef = {score:list(all_above_df.columns)[list_coef.index(score)] for score in list_coef}\n",
    "top10_lr = {}\n",
    "for i in range(10):\n",
    "    top10_lr[max(dict_coef)] = dict_coef[max(dict_coef)]\n",
    "    dict_coef.pop(max(dict_coef))"
   ]
  },
  {
   "cell_type": "markdown",
   "id": "acknowledged-latex",
   "metadata": {
    "id": "native-classics"
   },
   "source": [
    "We can now look at the top ten words that determined the Logistic Regression's predictions:"
   ]
  },
  {
   "cell_type": "code",
   "execution_count": null,
   "id": "forced-merchandise",
   "metadata": {
    "id": "american-division",
    "outputId": "1b6ae28d-cb30-4781-d458-aa93b990b12b"
   },
   "outputs": [
    {
     "data": {
      "text/plain": [
       "{2.3164658201831503: 'marvel',\n",
       " 2.09053677696773: 'x200b',\n",
       " 1.9479316645673235: 'extreme',\n",
       " 1.8845381482625292: 'avengers',\n",
       " 1.832752566343014: 'ignore',\n",
       " 1.8268964499316922: 'face',\n",
       " 1.814795588477559: 'mcu',\n",
       " 1.7992720520381045: 'marvelmemes',\n",
       " 1.7706517063483516: 'tony',\n",
       " 1.7029657795254158: 'hulk'}"
      ]
     },
     "execution_count": 63,
     "metadata": {
      "tags": []
     },
     "output_type": "execute_result"
    }
   ],
   "source": [
    "top10_lr"
   ]
  },
  {
   "cell_type": "markdown",
   "id": "contained-humidity",
   "metadata": {
    "id": "tamil-maldives"
   },
   "source": [
    "And now plotting them:"
   ]
  },
  {
   "cell_type": "code",
   "execution_count": null,
   "id": "altered-system",
   "metadata": {
    "id": "republican-ontario",
    "outputId": "5d52e23d-b5fc-4d23-a994-b6aa4d5872d5"
   },
   "outputs": [
    {
     "data": {
      "image/png": "[encoded data removed]",
      "text/plain": [
       "<Figure size 864x648 with 1 Axes>"
      ]
     },
     "metadata": {
      "needs_background": "light",
      "tags": []
     },
     "output_type": "display_data"
    }
   ],
   "source": [
    "plt.figure(figsize = (12,9))\n",
    "plt.bar(x = top10_lr.values(), height=top10_lr.keys())\n",
    "plt.title('Logistic Regression Top 10 Most Important Features',fontsize = 20)\n",
    "plt.xlabel('Feature Name', fontsize=15)\n",
    "plt.ylabel('Score', fontsize=15);"
   ]
  },
  {
   "cell_type": "markdown",
   "id": "realistic-suspect",
   "metadata": {
    "id": "involved-prophet"
   },
   "source": [
    "Not so surprising, some of the top words are marvel and marvelmemes. There are also the names of some characters that Marvel owns, and 'mcu' refers to the recent movies Marvel has been releasing. What might give a more interesting picture of whats going on in each subreddit, and to learn more about the personalities of the users, would be to make a list of stop words for the specific subreddits and removing them from the data we're looking at (for example, getting rid of the words 'marvel', 'hulk', etc)."
   ]
  },
  {
   "cell_type": "markdown",
   "id": "uniform-genome",
   "metadata": {
    "id": "technological-monthly"
   },
   "source": [
    "We can do the same for our Random Forest Classifier:"
   ]
  },
  {
   "cell_type": "code",
   "execution_count": null,
   "id": "floating-wiring",
   "metadata": {
    "id": "assured-uruguay",
    "outputId": "b812fb38-9748-46ba-cd0f-5cbd480fbdef"
   },
   "outputs": [
    {
     "data": {
      "image/png": "[encoded data removed]",
      "text/plain": [
       "<Figure size 864x648 with 1 Axes>"
      ]
     },
     "metadata": {
      "needs_background": "light",
      "tags": []
     },
     "output_type": "display_data"
    }
   ],
   "source": [
    "importance = rf1.feature_importances_\n",
    "feats = {}\n",
    "top10 = {}\n",
    "feats = {score:x for x, score in enumerate(importance)}\n",
    "for i in range(10):\n",
    "    score = max(feats)\n",
    "    word = list(all_above_df.columns)[feats[max(feats)]]\n",
    "    top10[word] = score\n",
    "    feats.pop(max(feats))\n",
    "plt.figure(figsize = (12,9))\n",
    "plt.bar(x = top10.keys(), height=top10.values())\n",
    "plt.title('Random Forest Top 10 Most Important Features',fontsize = 20)\n",
    "plt.xlabel('Feature Name', fontsize=15)\n",
    "plt.ylabel('Score', fontsize=15);"
   ]
  },
  {
   "cell_type": "markdown",
   "id": "traditional-workplace",
   "metadata": {
    "id": "robust-monkey"
   },
   "source": [
    "Here we see a different list of top ten words. Again it's full of words that could be considered stop words for these particular subreddits. Here thought, we have the removed category as well as x200b appearing as high predictors so investigating why that might be would be interesting.\n",
    "\n",
    "\n",
    "Conclusions\n",
    "=======\n",
    "------\n",
    "The Random Forest Classifier and Logistic Regression with CountVectorizer, while performing similarly in terms of accuracy, both out perform the Baseline model in predicting whether text is from either r/prequelmemes or r/marvelmemes. There are also specific words, as shown in the graphics above, that help to determine if the text will be in one subreddit or ther other. \n",
    "\n",
    "\n",
    "Recommendations\n",
    "======\n",
    "------\n",
    "- In order to get a better idea of who the users of each subreddit are, it would be interesting to use sentiment analysis to see if interactions are mainly positive or negative on one sub or the other.\n",
    "- To get a better idea of the users on each site, it would be interesting to remove the most common words (such as marvel, thor, hulk, anakin, etc) in each subreddit's text.\n",
    "- Using CountVectorizer to look at bigrams as well, this would give a better idea of what poeple are actually talking about and associating ideas to."
   ]
  },
  {
   "cell_type": "code",
   "execution_count": null,
   "id": "functional-sunset",
   "metadata": {
    "id": "dietary-valley"
   },
   "outputs": [],
   "source": []
  }
 ],
 "metadata": {
  "colab": {
   "name": "Technical_report.ipynb",
   "provenance": []
  },
  "kernelspec": {
   "display_name": "Python 3",
   "language": "python",
   "name": "python3"
  },
  "language_info": {
   "codemirror_mode": {
    "name": "ipython",
    "version": 3
   },
   "file_extension": ".py",
   "mimetype": "text/x-python",
   "name": "python",
   "nbconvert_exporter": "python",
   "pygments_lexer": "ipython3",
   "version": "3.8.8"
  }
 },
 "nbformat": 4,
 "nbformat_minor": 5
}
